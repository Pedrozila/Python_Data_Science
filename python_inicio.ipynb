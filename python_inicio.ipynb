{
  "nbformat": 4,
  "nbformat_minor": 0,
  "metadata": {
    "colab": {
      "name": "python_inicio.ipynb",
      "provenance": [],
      "authorship_tag": "ABX9TyOz2U7FsNZz4NIM+6SVxmF9",
      "include_colab_link": true
    },
    "kernelspec": {
      "name": "python3",
      "display_name": "Python 3"
    },
    "language_info": {
      "name": "python"
    }
  },
  "cells": [
    {
      "cell_type": "markdown",
      "metadata": {
        "id": "view-in-github",
        "colab_type": "text"
      },
      "source": [
        "<a href=\"https://colab.research.google.com/github/Pedrozila/Python_Data_Science/blob/main/python_inicio.ipynb\" target=\"_parent\"><img src=\"https://colab.research.google.com/assets/colab-badge.svg\" alt=\"Open In Colab\"/></a>"
      ]
    },
    {
      "cell_type": "markdown",
      "source": [
        "# Lógica de programção"
      ],
      "metadata": {
        "id": "Na8fmSTi-c3o"
      }
    },
    {
      "cell_type": "code",
      "execution_count": null,
      "metadata": {
        "id": "24j7LLpY5PLO"
      },
      "outputs": [],
      "source": [
        "nome = 'Pedro'"
      ]
    },
    {
      "cell_type": "code",
      "source": [
        "idade = 25"
      ],
      "metadata": {
        "id": "rBXinGK16Jvz"
      },
      "execution_count": null,
      "outputs": []
    },
    {
      "cell_type": "code",
      "source": [
        "print(f'Meu nome é {nome} e tenho {idade} anos')"
      ],
      "metadata": {
        "colab": {
          "base_uri": "https://localhost:8080/"
        },
        "id": "WtAPCEcJ6MSv",
        "outputId": "7cd6a3aa-86a6-4160-fa48-5856ecec25d6"
      },
      "execution_count": null,
      "outputs": [
        {
          "output_type": "stream",
          "name": "stdout",
          "text": [
            "Meu nome é Pedro e tenho 25 anos\n"
          ]
        }
      ]
    },
    {
      "cell_type": "markdown",
      "source": [
        "# Criando minha primeira função"
      ],
      "metadata": {
        "id": "b75pglDq-kbM"
      }
    },
    {
      "cell_type": "code",
      "source": [
        "def saudacao():\n",
        "  nome = input('Digite seu nome: ')\n",
        "  print(f'Ola {nome}!!')"
      ],
      "metadata": {
        "id": "cUZNgFnt-nnZ"
      },
      "execution_count": null,
      "outputs": []
    },
    {
      "cell_type": "code",
      "source": [
        "saudacao()"
      ],
      "metadata": {
        "id": "qzNgXGtcPMj2",
        "outputId": "61f5ad35-902d-43d5-9fd4-9eb5afa8d394",
        "colab": {
          "base_uri": "https://localhost:8080/"
        }
      },
      "execution_count": null,
      "outputs": [
        {
          "output_type": "stream",
          "name": "stdout",
          "text": [
            "Digite seu nome: Pedro\n",
            "Ola Pedro!!\n"
          ]
        }
      ]
    },
    {
      "cell_type": "code",
      "source": [
        ""
      ],
      "metadata": {
        "id": "Zi-B6EkYPOXG"
      },
      "execution_count": null,
      "outputs": []
    }
  ]
}